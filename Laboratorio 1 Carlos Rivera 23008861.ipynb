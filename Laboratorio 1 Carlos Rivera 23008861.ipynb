{
 "cells": [
  {
   "attachments": {},
   "cell_type": "markdown",
   "metadata": {},
   "source": [
    "#### Carlos Alfredo Rivera Yong \n",
    "#### 23008861\n",
    "\n",
    "# Laboratorio 1 </center>\n",
    "## Ensayo de Video Git\n",
    "\n",
    "- Existen multiples ventajas para utilizar Git, nos ayuda a llevar tracking de proyectos de programación desde lo mas básico que puede llegar a ser una tarea de la universidad hasta proyectos gigantescos los cuales al ser tan grandes probablemente necesiten mas de una persona para desarrollarlo lo cual en Git es ideal llevar este seguimiento ya que esta en la web y todos pueden acceder a este código y git nos hará lograr identificar quienes han hecho cualquier tipo de modificación y avance en los proyectos.\n",
    "Una de las ventajas importantes es el trabajo en paralelo, lo cual viene siendo limitado muchas veces teniendo muchos archivos y teniendo que trabajar con zips, lo cual en Git se elimina por completo. Este modelo facilita estas interacciones a la hora de trabajar en colaboración con otra persona. \n",
    "\n",
    "- Git no utiliza un modelo sencillo en donde va tomando fotos de nuestro progreso si no que tiene un **directed acyclic** graph para modelar la historia.\n",
    "\n",
    "#### Imagen\n",
    "\n",
    "![directed acyclic graph](https://upload.wikimedia.org/wikipedia/commons/thumb/f/fe/Tred-G.svg/640px-Tred-G.svg.png)\n",
    "\n",
    "En el cual podemos ir teniendo varios avances en donde uno podemos tener una mejora y en otra poder tener el arreglo de un bug y luego unirlos en uno mismo. \n",
    "\n",
    "Tenemos tres tipos de objetos:\n",
    "<ol>\n",
    "    <li>Blob</li>\n",
    "    <li>Tree</li>\n",
    "    <li>Commit</li>\n",
    "</ol>\n",
    "\n",
    "| Objet | Definición| \n",
    "| ------ | -------- | \n",
    "| Blob   | Representa el contenido de un archivo en un momento dado en la historia del repositorio                  | \n",
    "| Tree   | Estructura de directorios y archivos que conforman un proyecto o una rama específica de un repositorio   |\n",
    "| Commit | Cambio en el contenido de los archivos del repositorio en un momento específico en su historia           |  \n",
    "\n",
    "Objects =  map < string, object >\n",
    "\n",
    "Git almacena referencias dando solución mapeando un string to string, para referirse a pantallazos del progreso, en vez de almacenar un montón de IDs innecesarios. \n",
    "Podemos usar *Branch* para hacer una copia separada sin afectar el código fuente ni las demás ramas, trabajando en paralelo distintos temas del código. Una vez que el trabajo en una rama se ha completado, los cambios pueden ser fusionados de vuelta a la rama principal mediante un *merge*.\n",
    "\n",
    "#### Enlace\n",
    "\n",
    "Descarga Git en: [Git](https://git-scm.com/) \n",
    "\n"
   ]
  }
 ],
 "metadata": {
  "language_info": {
   "name": "python"
  },
  "orig_nbformat": 4
 },
 "nbformat": 4,
 "nbformat_minor": 2
}
