{
 "cells": [
  {
   "attachments": {},
   "cell_type": "markdown",
   "metadata": {},
   "source": [
    "#### Carlos Alfredo Rivera Yong 23008861\n",
    "\n",
    "# Laboratorio 2 \n",
    "## Sintaxis y Estructuras de Datos\n",
    "###Parte 1"
   ]
  },
  {
   "cell_type": "code",
   "execution_count": 2,
   "metadata": {},
   "outputs": [
    {
     "name": "stdout",
     "output_type": "stream",
     "text": [
      "1 horas, 37 minutos, 51 segundos\n"
     ]
    }
   ],
   "source": [
    "def convertir_segundos(segundos):\n",
    "    horas = segundos // 3600\n",
    "    minutos = (segundos % 3600) // 60\n",
    "    segundos = segundos % 60\n",
    "    return (horas, minutos, segundos)\n",
    "\n",
    "segundos = int(input(\"Ingresa la cantidad de segundos a convertir: \"))\n",
    "(horas, minutos, segundos) = convertir_segundos(segundos)\n",
    "\n",
    "print(f\"{horas} horas, {minutos} minutos, {segundos} segundos\")"
   ]
  },
  {
   "cell_type": "code",
   "execution_count": 8,
   "metadata": {},
   "outputs": [
    {
     "ename": "TypeError",
     "evalue": "dibujar_patrones() missing 2 required positional arguments: 'num' and 'caracter'",
     "output_type": "error",
     "traceback": [
      "\u001b[1;31m---------------------------------------------------------------------------\u001b[0m",
      "\u001b[1;31mTypeError\u001b[0m                                 Traceback (most recent call last)",
      "Cell \u001b[1;32mIn[8], line 21\u001b[0m\n\u001b[0;32m     19\u001b[0m     \u001b[39mfor\u001b[39;00m i \u001b[39min\u001b[39;00m \u001b[39mrange\u001b[39m(num, \u001b[39m0\u001b[39m, \u001b[39m-\u001b[39m\u001b[39m1\u001b[39m):\n\u001b[0;32m     20\u001b[0m         \u001b[39mprint\u001b[39m(\u001b[39m\"\u001b[39m\u001b[39m \u001b[39m\u001b[39m\"\u001b[39m\u001b[39m*\u001b[39m(num\u001b[39m-\u001b[39mi) \u001b[39m+\u001b[39m caracter\u001b[39m*\u001b[39mi)\n\u001b[1;32m---> 21\u001b[0m dibujar_patrones()\n",
      "\u001b[1;31mTypeError\u001b[0m: dibujar_patrones() missing 2 required positional arguments: 'num' and 'caracter'"
     ]
    }
   ],
   "source": [
    "def dibujar_patrones():\n",
    "    # Pedir el número y el carácter al usuario\n",
    "    num = int(input(\"Ingrese un número entre 1 y 20: \"))\n",
    "    caracter = input(\"Ingrese un carácter: \")\n",
    "\n",
    "    # Imprimir el primer patrón\n",
    "    for i in range(1, num+1):\n",
    "        print(caracter * i)\n",
    "\n",
    "    # Imprimir el segundo patrón\n",
    "    for i in range(num, 0, -1):\n",
    "        print(caracter * i)\n",
    "\n",
    "    # Imprimir el tercer patrón\n",
    "    for i in range(1, num+1):\n",
    "        print(\" \"*(num-i) + caracter*i)\n",
    "\n",
    "    # Imprimir el cuarto patrón\n",
    "    for i in range(num, 0, -1):\n",
    "        print(\" \"*(num-i) + caracter*i)\n"
   ]
  }
 ],
 "metadata": {
  "kernelspec": {
   "display_name": "Python 3",
   "language": "python",
   "name": "python3"
  },
  "language_info": {
   "codemirror_mode": {
    "name": "ipython",
    "version": 3
   },
   "file_extension": ".py",
   "mimetype": "text/x-python",
   "name": "python",
   "nbconvert_exporter": "python",
   "pygments_lexer": "ipython3",
   "version": "3.10.10"
  },
  "orig_nbformat": 4
 },
 "nbformat": 4,
 "nbformat_minor": 2
}
