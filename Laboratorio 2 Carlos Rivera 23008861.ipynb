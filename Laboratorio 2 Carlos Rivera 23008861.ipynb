{
 "cells": [
  {
   "attachments": {},
   "cell_type": "markdown",
   "metadata": {},
   "source": [
    "#### Carlos Alfredo Rivera Yong 23008861\n",
    "\n",
    "# Laboratorio 2 \n",
    "## Sintaxis y Estructuras de Datos\n",
    "###Parte 1"
   ]
  },
  {
   "attachments": {},
   "cell_type": "markdown",
   "metadata": {},
   "source": [
    "####1"
   ]
  },
  {
   "cell_type": "code",
   "execution_count": 1,
   "metadata": {},
   "outputs": [
    {
     "name": "stdout",
     "output_type": "stream",
     "text": [
      "0 horas, 0 minutos, 45 segundos\n"
     ]
    }
   ],
   "source": [
    "def convertir_segundos(segundos):\n",
    "    horas = segundos // 3600\n",
    "    minutos = (segundos % 3600) // 60\n",
    "    segundos = segundos % 60\n",
    "    return (horas, minutos, segundos)\n",
    "\n",
    "segundos = int(input(\"Ingresa la cantidad de segundos a convertir: \"))\n",
    "(horas, minutos, segundos) = convertir_segundos(segundos)\n",
    "\n",
    "print(f\"{horas} horas, {minutos} minutos, {segundos} segundos\")"
   ]
  },
  {
   "attachments": {},
   "cell_type": "markdown",
   "metadata": {},
   "source": [
    "####2"
   ]
  },
  {
   "cell_type": "code",
   "execution_count": 3,
   "metadata": {},
   "outputs": [
    {
     "name": "stdout",
     "output_type": "stream",
     "text": [
      "/\n",
      "//\n",
      "///\n",
      "////\n",
      "/////\n",
      "/////\n",
      "////\n",
      "///\n",
      "//\n",
      "/\n",
      "    /\n",
      "   //\n",
      "  ///\n",
      " ////\n",
      "/////\n",
      "/////\n",
      " ////\n",
      "  ///\n",
      "   //\n",
      "    /\n"
     ]
    }
   ],
   "source": [
    "def dibujar_patrones():\n",
    "    # Pedir el número y el carácter al usuario\n",
    "    num = int(input(\"Ingrese un número entre 1 y 20: \"))\n",
    "    caracter = input(\"Ingrese un carácter: \")\n",
    "\n",
    "    for i in range(1, num+1):\n",
    "        for j in range(i):\n",
    "            print(caracter, end=\"\")\n",
    "        print()\n",
    "\n",
    "    for i in range(num, 0, -1):\n",
    "        for j in range(i):\n",
    "            print(caracter, end=\"\")\n",
    "        print()\n",
    "\n",
    "    for i in range(1, num+1):\n",
    "        for j in range(num-i):\n",
    "            print(\" \", end=\"\")\n",
    "        for k in range(i):\n",
    "            print(caracter, end=\"\")    \n",
    "        print()\n",
    "\n",
    "    for i in range(num, 0, -1):\n",
    "        for j in range(num-i):\n",
    "            print(\" \", end=\"\")\n",
    "        for k in range(i):\n",
    "            print(caracter, end=\"\")\n",
    "        print()\n",
    "dibujar_patrones()        \n"
   ]
  },
  {
   "attachments": {},
   "cell_type": "markdown",
   "metadata": {},
   "source": [
    "####3"
   ]
  },
  {
   "cell_type": "code",
   "execution_count": 2,
   "metadata": {},
   "outputs": [
    {
     "name": "stdout",
     "output_type": "stream",
     "text": [
      "Su edad es: 24 años, 0 meses y 22 días\n"
     ]
    }
   ],
   "source": [
    "import datetime\n",
    "\n",
    "# Solicitamos la fecha de nacimiento del usuario\n",
    "year = int(input(\"Ingrese su año de nacimiento (formato YYYY): \"))\n",
    "month = int(input(\"Ingrese su mes de nacimiento (formato MM): \"))\n",
    "day = int(input(\"Ingrese su día de nacimiento (formato DD): \"))\n",
    "\n",
    "# Calculamos la edad en años, meses y días\n",
    "birthday = datetime.date(year, month, day)\n",
    "today = datetime.date.today()\n",
    "age = today - birthday\n",
    "years = age.days // 365\n",
    "months = (age.days % 365) // 30\n",
    "days = (age.days % 365) % 30\n",
    "\n",
    "# Mostramos la edad calculada al usuario\n",
    "print(\"Su edad es: {} años, {} meses y {} días\".format(years, months, days))        "
   ]
  },
  {
   "attachments": {},
   "cell_type": "markdown",
   "metadata": {},
   "source": [
    "####4"
   ]
  },
  {
   "cell_type": "code",
   "execution_count": 18,
   "metadata": {},
   "outputs": [
    {
     "name": "stdout",
     "output_type": "stream",
     "text": [
      "1023ab3\n"
     ]
    }
   ],
   "source": [
    "entrada = input(\"Ingrese una tupla de elementos separados por comas: \")\n",
    "tupla = tuple(entrada.split(\",\"))\n",
    "def tupla_a_string(tupla):\n",
    "    \n",
    "    resultado = \"\"\n",
    "\n",
    "    \n",
    "    for elemento in tupla:\n",
    "        resultado += str(elemento)\n",
    "\n",
    "    \n",
    "    return resultado\n",
    "resultado = tupla_a_string(tupla)\n",
    "print(resultado)\n"
   ]
  },
  {
   "attachments": {},
   "cell_type": "markdown",
   "metadata": {},
   "source": [
    "####5"
   ]
  },
  {
   "cell_type": "code",
   "execution_count": 53,
   "metadata": {},
   "outputs": [
    {
     "name": "stdout",
     "output_type": "stream",
     "text": [
      "['5', '5', '5', '5']\n"
     ]
    }
   ],
   "source": [
    "entrada = input(\"Ingrese una tupla de elementos separados por comas: \")\n",
    "lista = tuple(entrada.split(\",\"))\n",
    "\n",
    "def eliminar_tuplas_vacias(lista):\n",
    "    # Crear una nueva lista que contenga solo las tuplas no vacías\n",
    "    nueva_lista = [tupla for tupla in lista if tupla]\n",
    "\n",
    "    # Devolver la nueva lista\n",
    "    return nueva_lista\n",
    "nueva_lista = eliminar_tuplas_vacias(lista)\n",
    "print(nueva_lista)"
   ]
  },
  {
   "attachments": {},
   "cell_type": "markdown",
   "metadata": {},
   "source": [
    "####6"
   ]
  },
  {
   "cell_type": "code",
   "execution_count": 56,
   "metadata": {},
   "outputs": [
    {
     "name": "stdout",
     "output_type": "stream",
     "text": [
      "(1.5, 3.5, 5.5)\n"
     ]
    }
   ],
   "source": [
    "entrada = input(\"Ingrese una tupla de elementos separados por comas: \")\n",
    "tupla_tuplas = eval(entrada)\n",
    "def promedio_tuplas(tupla):\n",
    "    promedios = [sum(subtupla)/len(subtupla) for subtupla in tupla]\n",
    "    return tuple(promedios)\n",
    "\n",
    "##entrada = input(\"Ingrese una tupla de tuplas con números separados por comas y entre paréntesis: \")\n",
    "tupla = ((10,10,12,15),(46,35,2,8,),(5,10,84,63,5),(4,6,7,6,5))\n",
    "resultado = promedio_tuplas(tupla_tuplas)\n",
    "print(resultado)"
   ]
  },
  {
   "attachments": {},
   "cell_type": "markdown",
   "metadata": {},
   "source": [
    "####7"
   ]
  },
  {
   "cell_type": "code",
   "execution_count": 57,
   "metadata": {},
   "outputs": [
    {
     "name": "stdout",
     "output_type": "stream",
     "text": [
      "¿Qué desea hacer?\n",
      "1. Añadir nueva factura\n",
      "2. Pagar factura existente\n",
      "3. Terminar\n",
      "Facturas pendientes:\n",
      "5555 : $ 56\n",
      "Cantidad cobrada hasta el momento: $ 0\n",
      "Cantidad pendiente de cobro: $ 56\n",
      "¿Qué desea hacer?\n",
      "1. Añadir nueva factura\n",
      "2. Pagar factura existente\n",
      "3. Terminar\n",
      "Opción inválida. Por favor, ingrese una opción válida.\n",
      "¿Qué desea hacer?\n",
      "1. Añadir nueva factura\n",
      "2. Pagar factura existente\n",
      "3. Terminar\n",
      "¡Gracias por utilizar el programa!\n"
     ]
    }
   ],
   "source": [
    "facturas = {} \n",
    "cobrado = 0 \n",
    "\n",
    "\n",
    "def mostrar_estado():\n",
    "    print(\"Facturas pendientes:\")\n",
    "    for factura, coste in facturas.items():\n",
    "        print(factura, \": $\", coste)\n",
    "    print(\"Cobrado: $\", cobrado)\n",
    "    print(\"Por Cobrar: $\", sum(facturas.values()))\n",
    "\n",
    "\n",
    "while True:\n",
    "    print(\"Seleccione una opcion\")\n",
    "    print(\"1. Añadir factura\")\n",
    "    print(\"2. Pagar factura\")\n",
    "    print(\"3. Cerrar\")\n",
    "\n",
    "    opcion = input(\"Seleccione una opcion: \")\n",
    "\n",
    "    if opcion == \"1\": \n",
    "        factura = input(\"Ingrese el número de factura (4 numeros): \")\n",
    "        while len(factura) != 4 or not factura.isnumeric():\n",
    "            factura = input(\"Ingrese un número de factura válido (4 numeros): \")\n",
    "        coste = input(\"Ingrese el costo de la factura: $\")\n",
    "        while not coste.isnumeric():\n",
    "            coste = input(\"Ingrese un costo válido: $\")\n",
    "        facturas[factura] = int(coste)\n",
    "        mostrar_estado()\n",
    "\n",
    "    elif opcion == \"2\": \n",
    "        factura = input(\"Ingrese el número de factura que desea pagar: \")\n",
    "        if factura in facturas:\n",
    "            cobrado += facturas[factura]\n",
    "            del facturas[factura]\n",
    "            mostrar_estado()\n",
    "        else:\n",
    "            print(\"La factura ingresada no existe.\")\n",
    "\n",
    "    elif opcion == \"3\": \n",
    "        print(\"¡Gracias por utilizar el programa!\")\n",
    "        break\n",
    "\n",
    "    else: \n",
    "        print(\"Opción inválida. Por favor, ingrese una opción válida.\")\n",
    "        "
   ]
  },
  {
   "attachments": {},
   "cell_type": "markdown",
   "metadata": {},
   "source": [
    "####8"
   ]
  },
  {
   "cell_type": "code",
   "execution_count": null,
   "metadata": {},
   "outputs": [],
   "source": [
    " "
   ]
  }
 ],
 "metadata": {
  "kernelspec": {
   "display_name": "Python 3",
   "language": "python",
   "name": "python3"
  },
  "language_info": {
   "codemirror_mode": {
    "name": "ipython",
    "version": 3
   },
   "file_extension": ".py",
   "mimetype": "text/x-python",
   "name": "python",
   "nbconvert_exporter": "python",
   "pygments_lexer": "ipython3",
   "version": "3.10.10"
  },
  "orig_nbformat": 4,
  "vscode": {
   "interpreter": {
    "hash": "410621c85258efa0ea47ad915638abc1a4a3304f33944a818dfb0fc7cd918640"
   }
  }
 },
 "nbformat": 4,
 "nbformat_minor": 2
}
